{
 "cells": [
  {
   "cell_type": "markdown",
   "metadata": {},
   "source": [
    "# Object Oriented Attributes with Functions\n",
    "\n",
    "## Introduction\n",
    "You've been learning a lot about different parts of object-oriented programming; you've seen the purpose of classes, you've seen instance objects, instance variables, and instance methods and how these things all work with each other. In this lab, you'll talk about what a **domain model** is and how it ties into object-oriented programming.\n",
    "\n",
    "## Objectives\n",
    "\n",
    "You will be able to:\n",
    "\n",
    "* Understand the concept of a domain model\n",
    "* Create a domain model\n",
    "* Define instance methods that operate on nested data structures\n",
    "\n",
    "## What Is a Domain Model?\n",
    "\n",
    "A domain model is the representation of a real-world concept or structure translated into software. This is a key function of object orientation. So far, your Python classes have been used as blueprints or templates for instance objects of that class. As an example, a Driver class would create driver instance objects, and the class would define a basic structure for what that driver instance object should look like and what capabilities it should have. But a class is only one part of a domain model just as, typically, a driver is only one part of a larger structure.\n",
    "\n",
    "A domain model is meant to mirror that larger, real-world structure. It is more than just one class, it is an entire environment that often depends on other parts or classes to function properly. So, in keeping with a Driver class, you could use the example of a taxi and limousine service as our domain model. There are many more parts to a service like this than drivers alone. Imagine dispatchers, mechanics, accountants, passengers, etc., all being part of the structure of this domain model. In a simplified example, you could have instance and class methods handle things like `dispatch_driver`, `calculate_revenue_from_rides`, `service_taxi`, or any other function of a taxi and limousine service.\n",
    "\n",
    "As you become more fluent in object-oriented programming and your programs become more complex, you'll see that the other parts of a domain model like passengers, dispatchers, etc., will be classes of their own which interact with each other. \n",
    "\n",
    "In this lecture, you'll be using a business as our domain model. With this, you'll continue to see how attributes and methods can be combined to perform operations and store values simultaneously.\n",
    "\n",
    "## Creating the Class\n",
    "\n",
    "Here's a simple class template:"
   ]
  },
  {
   "cell_type": "code",
   "execution_count": 1,
   "metadata": {},
   "outputs": [],
   "source": [
    "class Business():\n",
    "    def __init__(name=None, biz_type=None, city=None, customers = {}):\n",
    "        business.name = name\n",
    "        business.biz_type = biz_type\n",
    "        business.city = city\n",
    "        business.customers = customers"
   ]
  },
  {
   "cell_type": "markdown",
   "metadata": {},
   "source": [
    "## Defining Methods with Attributes\n",
    "\n",
    "As you've seen, you can define both methods (functions) and attributes of class objects. Here's a method that lets you update an attribute."
   ]
  },
  {
   "cell_type": "code",
   "execution_count": 2,
   "metadata": {},
   "outputs": [],
   "source": [
    "class Business():\n",
    "    def __init__(self, name=None, biz_type=None, city=None, customers = []):\n",
    "        self.name = name\n",
    "        self.biz_type = biz_type\n",
    "        self.city = city\n",
    "        self.customers = customers\n",
    "    def add_customer(self, customer):\n",
    "        self.customers.append(customer)"
   ]
  },
  {
   "cell_type": "markdown",
   "metadata": {},
   "source": [
    "## Thinking about appropriate structures\n",
    "At this point in creating our data structures, you can think about what you want a customer to be. It could be a dictionary storing various attributes about that customer such as name, orders, etc. It could also be a class of it's own. Thinking through the use case and allowing flexability is a key design decision.  \n",
    "\n",
    "For maximum future flexability, you might define an additional class for customers like this:"
   ]
  },
  {
   "cell_type": "code",
   "execution_count": 3,
   "metadata": {},
   "outputs": [],
   "source": [
    "class Customer():\n",
    "    def __init__(self, name=None, orders=[], location=None):\n",
    "        self.name=name\n",
    "        self.orders = orders\n",
    "        self.location = location\n",
    "    def add_order(item_name, item_cost, quantity):\n",
    "        self.orders.append({'item_name': item_name, 'item_cost':item_cost, 'quantity':quantity})"
   ]
  },
  {
   "cell_type": "markdown",
   "metadata": {},
   "source": [
    "## Writing more complicated methods using attriubtes\n",
    "\n",
    "Imagine a reporting method for the business that will return the top 5 customers to date based on their purchase history. To do this, you'd have to determine the total purchases made by customers and then sort our customers by this. Currently the data needed for that is stored within a customer object within the orders attribute which is a list of dictionaries. Quite the mouthful there; an object with an attribute that's a list of dictionaries. Breaking down the problem into constituent parts can help reduce solving the same problems over and over again. As such, before writing a larger business function to retrieve the top 5 customers, a constituent piece is to update the customer object to also keep track of total spent."
   ]
  },
  {
   "cell_type": "code",
   "execution_count": 4,
   "metadata": {},
   "outputs": [],
   "source": [
    "class Customer():\n",
    "    def __init__(self, name=None, orders=[], location=None):\n",
    "        self.name=name\n",
    "        self.orders = orders\n",
    "        self.location = location\n",
    "        self.total_spent = sum([i['item_cost']*i['quantity'] for i in orders])\n",
    "    def add_order(self, item_name, item_cost, quantity):\n",
    "        self.orders.append({'item_name': item_name, 'item_cost':item_cost, 'quantity':quantity})\n",
    "        self.total_spent += item_cost * quantity"
   ]
  },
  {
   "cell_type": "markdown",
   "metadata": {},
   "source": [
    "Now the previous problem is greatly simplified; the customer objects directly have an attribute for the total spent. You can write a method for top customers with much greater ease:"
   ]
  },
  {
   "cell_type": "code",
   "execution_count": 5,
   "metadata": {},
   "outputs": [],
   "source": [
    "class Business():\n",
    "    def __init__(self, name=None, biz_type=None, city=None, customers = []):\n",
    "        self.name = name\n",
    "        self.biz_type = biz_type\n",
    "        self.city = city\n",
    "        self.customers = customers\n",
    "    def add_customer(self, customer):\n",
    "        self.customers.append(customer)\n",
    "    def top_n_customers(self, n):\n",
    "        top_n = sorted(self.customers, key = lambda x: x.total_spent, reverse=True)[:n]\n",
    "        for c in top_n:\n",
    "            print(c.name, c.total_spent)"
   ]
  },
  {
   "cell_type": "markdown",
   "metadata": {},
   "source": [
    "## Trying it out: Creating an Instance\n",
    "\n",
    "Finally you can try it all out:"
   ]
  },
  {
   "cell_type": "code",
   "execution_count": 6,
   "metadata": {},
   "outputs": [],
   "source": [
    "startup = Business('etsy_store2076', 'crafts')"
   ]
  },
  {
   "cell_type": "code",
   "execution_count": 7,
   "metadata": {},
   "outputs": [],
   "source": [
    "customer1 = Customer(name='Bob', orders=[])\n",
    "customer1.add_order('sweater', 24.99, 1)"
   ]
  },
  {
   "cell_type": "code",
   "execution_count": 8,
   "metadata": {},
   "outputs": [
    {
     "data": {
      "text/plain": [
       "[{'item_name': 'sweater', 'item_cost': 24.99, 'quantity': 1}]"
      ]
     },
     "execution_count": 8,
     "metadata": {},
     "output_type": "execute_result"
    }
   ],
   "source": [
    "customer1.orders"
   ]
  },
  {
   "cell_type": "code",
   "execution_count": 9,
   "metadata": {},
   "outputs": [
    {
     "data": {
      "text/plain": [
       "24.99"
      ]
     },
     "execution_count": 9,
     "metadata": {},
     "output_type": "execute_result"
    }
   ],
   "source": [
    "customer1.total_spent"
   ]
  },
  {
   "cell_type": "markdown",
   "metadata": {},
   "source": [
    "### my lines of code below"
   ]
  },
  {
   "cell_type": "code",
   "execution_count": 10,
   "metadata": {},
   "outputs": [],
   "source": [
    "startup.add_customer(customer1)"
   ]
  },
  {
   "cell_type": "code",
   "execution_count": 11,
   "metadata": {},
   "outputs": [
    {
     "name": "stdout",
     "output_type": "stream",
     "text": [
      "Bob 24.99\n"
     ]
    }
   ],
   "source": [
    "startup.top_n_customers(1)"
   ]
  },
  {
   "cell_type": "markdown",
   "metadata": {},
   "source": [
    "## Generating Customers and orders at scale\n",
    "\n",
    "Now you can systematically add some fake data to test the fancier method on. You can use some NumPy's built in random methods to randomly select quantities of orders and items."
   ]
  },
  {
   "cell_type": "code",
   "execution_count": 12,
   "metadata": {},
   "outputs": [],
   "source": [
    "import numpy as np"
   ]
  },
  {
   "cell_type": "code",
   "execution_count": 13,
   "metadata": {
    "scrolled": false
   },
   "outputs": [
    {
     "name": "stdout",
     "output_type": "stream",
     "text": [
      "{'name': 'Emma', 'orders': [{'item_name': 'gloves', 'item_cost': 20, 'quantity': 3}], 'location': None, 'total_spent': 60}\n",
      " \n",
      "{'name': 'Emma', 'orders': [{'item_name': 'gloves', 'item_cost': 20, 'quantity': 3}, {'item_name': 'hat', 'item_cost': 20, 'quantity': 1}], 'location': None, 'total_spent': 80}\n",
      " \n",
      "{'name': 'Emma', 'orders': [{'item_name': 'gloves', 'item_cost': 20, 'quantity': 3}, {'item_name': 'hat', 'item_cost': 20, 'quantity': 1}, {'item_name': 'gloves', 'item_cost': 20, 'quantity': 2}], 'location': None, 'total_spent': 120}\n",
      " \n",
      "{'name': 'Emma', 'orders': [{'item_name': 'gloves', 'item_cost': 20, 'quantity': 3}, {'item_name': 'hat', 'item_cost': 20, 'quantity': 1}, {'item_name': 'gloves', 'item_cost': 20, 'quantity': 2}, {'item_name': 'sweater', 'item_cost': 50, 'quantity': 2}], 'location': None, 'total_spent': 220}\n",
      " \n",
      "{'name': 'Olivia', 'orders': [{'item_name': 'gloves', 'item_cost': 20, 'quantity': 3}, {'item_name': 'hat', 'item_cost': 20, 'quantity': 1}, {'item_name': 'gloves', 'item_cost': 20, 'quantity': 2}, {'item_name': 'sweater', 'item_cost': 50, 'quantity': 2}, {'item_name': 'sweater', 'item_cost': 50, 'quantity': 3}], 'location': None, 'total_spent': 370}\n",
      " \n",
      "{'name': 'Olivia', 'orders': [{'item_name': 'gloves', 'item_cost': 20, 'quantity': 3}, {'item_name': 'hat', 'item_cost': 20, 'quantity': 1}, {'item_name': 'gloves', 'item_cost': 20, 'quantity': 2}, {'item_name': 'sweater', 'item_cost': 50, 'quantity': 2}, {'item_name': 'sweater', 'item_cost': 50, 'quantity': 3}, {'item_name': 'scarf', 'item_cost': 35, 'quantity': 3}], 'location': None, 'total_spent': 475}\n",
      " \n",
      "{'name': 'Olivia', 'orders': [{'item_name': 'gloves', 'item_cost': 20, 'quantity': 3}, {'item_name': 'hat', 'item_cost': 20, 'quantity': 1}, {'item_name': 'gloves', 'item_cost': 20, 'quantity': 2}, {'item_name': 'sweater', 'item_cost': 50, 'quantity': 2}, {'item_name': 'sweater', 'item_cost': 50, 'quantity': 3}, {'item_name': 'scarf', 'item_cost': 35, 'quantity': 3}, {'item_name': 'gloves', 'item_cost': 20, 'quantity': 2}], 'location': None, 'total_spent': 515}\n",
      " \n",
      "{'name': 'William', 'orders': [{'item_name': 'gloves', 'item_cost': 20, 'quantity': 3}, {'item_name': 'hat', 'item_cost': 20, 'quantity': 1}, {'item_name': 'gloves', 'item_cost': 20, 'quantity': 2}, {'item_name': 'sweater', 'item_cost': 50, 'quantity': 2}, {'item_name': 'sweater', 'item_cost': 50, 'quantity': 3}, {'item_name': 'scarf', 'item_cost': 35, 'quantity': 3}, {'item_name': 'gloves', 'item_cost': 20, 'quantity': 2}, {'item_name': 'gloves', 'item_cost': 20, 'quantity': 3}], 'location': None, 'total_spent': 575}\n",
      " \n",
      "{'name': 'William', 'orders': [{'item_name': 'gloves', 'item_cost': 20, 'quantity': 3}, {'item_name': 'hat', 'item_cost': 20, 'quantity': 1}, {'item_name': 'gloves', 'item_cost': 20, 'quantity': 2}, {'item_name': 'sweater', 'item_cost': 50, 'quantity': 2}, {'item_name': 'sweater', 'item_cost': 50, 'quantity': 3}, {'item_name': 'scarf', 'item_cost': 35, 'quantity': 3}, {'item_name': 'gloves', 'item_cost': 20, 'quantity': 2}, {'item_name': 'gloves', 'item_cost': 20, 'quantity': 3}, {'item_name': 'gloves', 'item_cost': 20, 'quantity': 2}], 'location': None, 'total_spent': 615}\n",
      " \n",
      "{'name': 'William', 'orders': [{'item_name': 'gloves', 'item_cost': 20, 'quantity': 3}, {'item_name': 'hat', 'item_cost': 20, 'quantity': 1}, {'item_name': 'gloves', 'item_cost': 20, 'quantity': 2}, {'item_name': 'sweater', 'item_cost': 50, 'quantity': 2}, {'item_name': 'sweater', 'item_cost': 50, 'quantity': 3}, {'item_name': 'scarf', 'item_cost': 35, 'quantity': 3}, {'item_name': 'gloves', 'item_cost': 20, 'quantity': 2}, {'item_name': 'gloves', 'item_cost': 20, 'quantity': 3}, {'item_name': 'gloves', 'item_cost': 20, 'quantity': 2}, {'item_name': 'gloves', 'item_cost': 20, 'quantity': 1}], 'location': None, 'total_spent': 635}\n",
      " \n",
      "{'name': 'William', 'orders': [{'item_name': 'gloves', 'item_cost': 20, 'quantity': 3}, {'item_name': 'hat', 'item_cost': 20, 'quantity': 1}, {'item_name': 'gloves', 'item_cost': 20, 'quantity': 2}, {'item_name': 'sweater', 'item_cost': 50, 'quantity': 2}, {'item_name': 'sweater', 'item_cost': 50, 'quantity': 3}, {'item_name': 'scarf', 'item_cost': 35, 'quantity': 3}, {'item_name': 'gloves', 'item_cost': 20, 'quantity': 2}, {'item_name': 'gloves', 'item_cost': 20, 'quantity': 3}, {'item_name': 'gloves', 'item_cost': 20, 'quantity': 2}, {'item_name': 'gloves', 'item_cost': 20, 'quantity': 1}, {'item_name': 'gloves', 'item_cost': 20, 'quantity': 2}], 'location': None, 'total_spent': 675}\n",
      " \n",
      "{'name': 'William', 'orders': [{'item_name': 'gloves', 'item_cost': 20, 'quantity': 3}, {'item_name': 'hat', 'item_cost': 20, 'quantity': 1}, {'item_name': 'gloves', 'item_cost': 20, 'quantity': 2}, {'item_name': 'sweater', 'item_cost': 50, 'quantity': 2}, {'item_name': 'sweater', 'item_cost': 50, 'quantity': 3}, {'item_name': 'scarf', 'item_cost': 35, 'quantity': 3}, {'item_name': 'gloves', 'item_cost': 20, 'quantity': 2}, {'item_name': 'gloves', 'item_cost': 20, 'quantity': 3}, {'item_name': 'gloves', 'item_cost': 20, 'quantity': 2}, {'item_name': 'gloves', 'item_cost': 20, 'quantity': 1}, {'item_name': 'gloves', 'item_cost': 20, 'quantity': 2}, {'item_name': 'hat', 'item_cost': 20, 'quantity': 1}], 'location': None, 'total_spent': 695}\n",
      " \n",
      "{'name': 'Benjamin', 'orders': [{'item_name': 'gloves', 'item_cost': 20, 'quantity': 3}, {'item_name': 'hat', 'item_cost': 20, 'quantity': 1}, {'item_name': 'gloves', 'item_cost': 20, 'quantity': 2}, {'item_name': 'sweater', 'item_cost': 50, 'quantity': 2}, {'item_name': 'sweater', 'item_cost': 50, 'quantity': 3}, {'item_name': 'scarf', 'item_cost': 35, 'quantity': 3}, {'item_name': 'gloves', 'item_cost': 20, 'quantity': 2}, {'item_name': 'gloves', 'item_cost': 20, 'quantity': 3}, {'item_name': 'gloves', 'item_cost': 20, 'quantity': 2}, {'item_name': 'gloves', 'item_cost': 20, 'quantity': 1}, {'item_name': 'gloves', 'item_cost': 20, 'quantity': 2}, {'item_name': 'hat', 'item_cost': 20, 'quantity': 1}, {'item_name': 'hat', 'item_cost': 20, 'quantity': 3}], 'location': None, 'total_spent': 755}\n",
      " \n",
      "{'name': 'Benjamin', 'orders': [{'item_name': 'gloves', 'item_cost': 20, 'quantity': 3}, {'item_name': 'hat', 'item_cost': 20, 'quantity': 1}, {'item_name': 'gloves', 'item_cost': 20, 'quantity': 2}, {'item_name': 'sweater', 'item_cost': 50, 'quantity': 2}, {'item_name': 'sweater', 'item_cost': 50, 'quantity': 3}, {'item_name': 'scarf', 'item_cost': 35, 'quantity': 3}, {'item_name': 'gloves', 'item_cost': 20, 'quantity': 2}, {'item_name': 'gloves', 'item_cost': 20, 'quantity': 3}, {'item_name': 'gloves', 'item_cost': 20, 'quantity': 2}, {'item_name': 'gloves', 'item_cost': 20, 'quantity': 1}, {'item_name': 'gloves', 'item_cost': 20, 'quantity': 2}, {'item_name': 'hat', 'item_cost': 20, 'quantity': 1}, {'item_name': 'hat', 'item_cost': 20, 'quantity': 3}, {'item_name': 'gloves', 'item_cost': 20, 'quantity': 1}], 'location': None, 'total_spent': 775}\n",
      " \n",
      "{'name': 'Benjamin', 'orders': [{'item_name': 'gloves', 'item_cost': 20, 'quantity': 3}, {'item_name': 'hat', 'item_cost': 20, 'quantity': 1}, {'item_name': 'gloves', 'item_cost': 20, 'quantity': 2}, {'item_name': 'sweater', 'item_cost': 50, 'quantity': 2}, {'item_name': 'sweater', 'item_cost': 50, 'quantity': 3}, {'item_name': 'scarf', 'item_cost': 35, 'quantity': 3}, {'item_name': 'gloves', 'item_cost': 20, 'quantity': 2}, {'item_name': 'gloves', 'item_cost': 20, 'quantity': 3}, {'item_name': 'gloves', 'item_cost': 20, 'quantity': 2}, {'item_name': 'gloves', 'item_cost': 20, 'quantity': 1}, {'item_name': 'gloves', 'item_cost': 20, 'quantity': 2}, {'item_name': 'hat', 'item_cost': 20, 'quantity': 1}, {'item_name': 'hat', 'item_cost': 20, 'quantity': 3}, {'item_name': 'gloves', 'item_cost': 20, 'quantity': 1}, {'item_name': 'scarf', 'item_cost': 35, 'quantity': 3}], 'location': None, 'total_spent': 880}\n",
      " \n",
      "{'name': 'Mia', 'orders': [{'item_name': 'gloves', 'item_cost': 20, 'quantity': 3}, {'item_name': 'hat', 'item_cost': 20, 'quantity': 1}, {'item_name': 'gloves', 'item_cost': 20, 'quantity': 2}, {'item_name': 'sweater', 'item_cost': 50, 'quantity': 2}, {'item_name': 'sweater', 'item_cost': 50, 'quantity': 3}, {'item_name': 'scarf', 'item_cost': 35, 'quantity': 3}, {'item_name': 'gloves', 'item_cost': 20, 'quantity': 2}, {'item_name': 'gloves', 'item_cost': 20, 'quantity': 3}, {'item_name': 'gloves', 'item_cost': 20, 'quantity': 2}, {'item_name': 'gloves', 'item_cost': 20, 'quantity': 1}, {'item_name': 'gloves', 'item_cost': 20, 'quantity': 2}, {'item_name': 'hat', 'item_cost': 20, 'quantity': 1}, {'item_name': 'hat', 'item_cost': 20, 'quantity': 3}, {'item_name': 'gloves', 'item_cost': 20, 'quantity': 1}, {'item_name': 'scarf', 'item_cost': 35, 'quantity': 3}, {'item_name': 'hat', 'item_cost': 20, 'quantity': 2}], 'location': None, 'total_spent': 920}\n",
      " \n",
      "{'name': 'Charlotte', 'orders': [{'item_name': 'gloves', 'item_cost': 20, 'quantity': 3}, {'item_name': 'hat', 'item_cost': 20, 'quantity': 1}, {'item_name': 'gloves', 'item_cost': 20, 'quantity': 2}, {'item_name': 'sweater', 'item_cost': 50, 'quantity': 2}, {'item_name': 'sweater', 'item_cost': 50, 'quantity': 3}, {'item_name': 'scarf', 'item_cost': 35, 'quantity': 3}, {'item_name': 'gloves', 'item_cost': 20, 'quantity': 2}, {'item_name': 'gloves', 'item_cost': 20, 'quantity': 3}, {'item_name': 'gloves', 'item_cost': 20, 'quantity': 2}, {'item_name': 'gloves', 'item_cost': 20, 'quantity': 1}, {'item_name': 'gloves', 'item_cost': 20, 'quantity': 2}, {'item_name': 'hat', 'item_cost': 20, 'quantity': 1}, {'item_name': 'hat', 'item_cost': 20, 'quantity': 3}, {'item_name': 'gloves', 'item_cost': 20, 'quantity': 1}, {'item_name': 'scarf', 'item_cost': 35, 'quantity': 3}, {'item_name': 'hat', 'item_cost': 20, 'quantity': 2}, {'item_name': 'scarf', 'item_cost': 35, 'quantity': 1}], 'location': None, 'total_spent': 955}\n",
      " \n",
      "{'name': 'Charlotte', 'orders': [{'item_name': 'gloves', 'item_cost': 20, 'quantity': 3}, {'item_name': 'hat', 'item_cost': 20, 'quantity': 1}, {'item_name': 'gloves', 'item_cost': 20, 'quantity': 2}, {'item_name': 'sweater', 'item_cost': 50, 'quantity': 2}, {'item_name': 'sweater', 'item_cost': 50, 'quantity': 3}, {'item_name': 'scarf', 'item_cost': 35, 'quantity': 3}, {'item_name': 'gloves', 'item_cost': 20, 'quantity': 2}, {'item_name': 'gloves', 'item_cost': 20, 'quantity': 3}, {'item_name': 'gloves', 'item_cost': 20, 'quantity': 2}, {'item_name': 'gloves', 'item_cost': 20, 'quantity': 1}, {'item_name': 'gloves', 'item_cost': 20, 'quantity': 2}, {'item_name': 'hat', 'item_cost': 20, 'quantity': 1}, {'item_name': 'hat', 'item_cost': 20, 'quantity': 3}, {'item_name': 'gloves', 'item_cost': 20, 'quantity': 1}, {'item_name': 'scarf', 'item_cost': 35, 'quantity': 3}, {'item_name': 'hat', 'item_cost': 20, 'quantity': 2}, {'item_name': 'scarf', 'item_cost': 35, 'quantity': 1}, {'item_name': 'sweater', 'item_cost': 50, 'quantity': 1}], 'location': None, 'total_spent': 1005}\n",
      " \n",
      "{'name': 'Charlotte', 'orders': [{'item_name': 'gloves', 'item_cost': 20, 'quantity': 3}, {'item_name': 'hat', 'item_cost': 20, 'quantity': 1}, {'item_name': 'gloves', 'item_cost': 20, 'quantity': 2}, {'item_name': 'sweater', 'item_cost': 50, 'quantity': 2}, {'item_name': 'sweater', 'item_cost': 50, 'quantity': 3}, {'item_name': 'scarf', 'item_cost': 35, 'quantity': 3}, {'item_name': 'gloves', 'item_cost': 20, 'quantity': 2}, {'item_name': 'gloves', 'item_cost': 20, 'quantity': 3}, {'item_name': 'gloves', 'item_cost': 20, 'quantity': 2}, {'item_name': 'gloves', 'item_cost': 20, 'quantity': 1}, {'item_name': 'gloves', 'item_cost': 20, 'quantity': 2}, {'item_name': 'hat', 'item_cost': 20, 'quantity': 1}, {'item_name': 'hat', 'item_cost': 20, 'quantity': 3}, {'item_name': 'gloves', 'item_cost': 20, 'quantity': 1}, {'item_name': 'scarf', 'item_cost': 35, 'quantity': 3}, {'item_name': 'hat', 'item_cost': 20, 'quantity': 2}, {'item_name': 'scarf', 'item_cost': 35, 'quantity': 1}, {'item_name': 'sweater', 'item_cost': 50, 'quantity': 1}, {'item_name': 'hat', 'item_cost': 20, 'quantity': 3}], 'location': None, 'total_spent': 1065}\n",
      " \n",
      "{'name': 'Charlotte', 'orders': [{'item_name': 'gloves', 'item_cost': 20, 'quantity': 3}, {'item_name': 'hat', 'item_cost': 20, 'quantity': 1}, {'item_name': 'gloves', 'item_cost': 20, 'quantity': 2}, {'item_name': 'sweater', 'item_cost': 50, 'quantity': 2}, {'item_name': 'sweater', 'item_cost': 50, 'quantity': 3}, {'item_name': 'scarf', 'item_cost': 35, 'quantity': 3}, {'item_name': 'gloves', 'item_cost': 20, 'quantity': 2}, {'item_name': 'gloves', 'item_cost': 20, 'quantity': 3}, {'item_name': 'gloves', 'item_cost': 20, 'quantity': 2}, {'item_name': 'gloves', 'item_cost': 20, 'quantity': 1}, {'item_name': 'gloves', 'item_cost': 20, 'quantity': 2}, {'item_name': 'hat', 'item_cost': 20, 'quantity': 1}, {'item_name': 'hat', 'item_cost': 20, 'quantity': 3}, {'item_name': 'gloves', 'item_cost': 20, 'quantity': 1}, {'item_name': 'scarf', 'item_cost': 35, 'quantity': 3}, {'item_name': 'hat', 'item_cost': 20, 'quantity': 2}, {'item_name': 'scarf', 'item_cost': 35, 'quantity': 1}, {'item_name': 'sweater', 'item_cost': 50, 'quantity': 1}, {'item_name': 'hat', 'item_cost': 20, 'quantity': 3}, {'item_name': 'sweater', 'item_cost': 50, 'quantity': 1}], 'location': None, 'total_spent': 1115}\n",
      " \n",
      "{'name': 'Emma', 'orders': [{'item_name': 'gloves', 'item_cost': 20, 'quantity': 3}, {'item_name': 'hat', 'item_cost': 20, 'quantity': 1}, {'item_name': 'gloves', 'item_cost': 20, 'quantity': 2}, {'item_name': 'sweater', 'item_cost': 50, 'quantity': 2}, {'item_name': 'sweater', 'item_cost': 50, 'quantity': 3}, {'item_name': 'scarf', 'item_cost': 35, 'quantity': 3}, {'item_name': 'gloves', 'item_cost': 20, 'quantity': 2}, {'item_name': 'gloves', 'item_cost': 20, 'quantity': 3}, {'item_name': 'gloves', 'item_cost': 20, 'quantity': 2}, {'item_name': 'gloves', 'item_cost': 20, 'quantity': 1}, {'item_name': 'gloves', 'item_cost': 20, 'quantity': 2}, {'item_name': 'hat', 'item_cost': 20, 'quantity': 1}, {'item_name': 'hat', 'item_cost': 20, 'quantity': 3}, {'item_name': 'gloves', 'item_cost': 20, 'quantity': 1}, {'item_name': 'scarf', 'item_cost': 35, 'quantity': 3}, {'item_name': 'hat', 'item_cost': 20, 'quantity': 2}, {'item_name': 'scarf', 'item_cost': 35, 'quantity': 1}, {'item_name': 'sweater', 'item_cost': 50, 'quantity': 1}, {'item_name': 'hat', 'item_cost': 20, 'quantity': 3}, {'item_name': 'sweater', 'item_cost': 50, 'quantity': 1}, {'item_name': 'sweater', 'item_cost': 50, 'quantity': 3}], 'location': None, 'total_spent': 1265}\n",
      " \n",
      "{'name': 'Emma', 'orders': [{'item_name': 'gloves', 'item_cost': 20, 'quantity': 3}, {'item_name': 'hat', 'item_cost': 20, 'quantity': 1}, {'item_name': 'gloves', 'item_cost': 20, 'quantity': 2}, {'item_name': 'sweater', 'item_cost': 50, 'quantity': 2}, {'item_name': 'sweater', 'item_cost': 50, 'quantity': 3}, {'item_name': 'scarf', 'item_cost': 35, 'quantity': 3}, {'item_name': 'gloves', 'item_cost': 20, 'quantity': 2}, {'item_name': 'gloves', 'item_cost': 20, 'quantity': 3}, {'item_name': 'gloves', 'item_cost': 20, 'quantity': 2}, {'item_name': 'gloves', 'item_cost': 20, 'quantity': 1}, {'item_name': 'gloves', 'item_cost': 20, 'quantity': 2}, {'item_name': 'hat', 'item_cost': 20, 'quantity': 1}, {'item_name': 'hat', 'item_cost': 20, 'quantity': 3}, {'item_name': 'gloves', 'item_cost': 20, 'quantity': 1}, {'item_name': 'scarf', 'item_cost': 35, 'quantity': 3}, {'item_name': 'hat', 'item_cost': 20, 'quantity': 2}, {'item_name': 'scarf', 'item_cost': 35, 'quantity': 1}, {'item_name': 'sweater', 'item_cost': 50, 'quantity': 1}, {'item_name': 'hat', 'item_cost': 20, 'quantity': 3}, {'item_name': 'sweater', 'item_cost': 50, 'quantity': 1}, {'item_name': 'sweater', 'item_cost': 50, 'quantity': 3}, {'item_name': 'hat', 'item_cost': 20, 'quantity': 1}], 'location': None, 'total_spent': 1285}\n",
      " \n",
      "{'name': 'Charlotte', 'orders': [{'item_name': 'gloves', 'item_cost': 20, 'quantity': 3}, {'item_name': 'hat', 'item_cost': 20, 'quantity': 1}, {'item_name': 'gloves', 'item_cost': 20, 'quantity': 2}, {'item_name': 'sweater', 'item_cost': 50, 'quantity': 2}, {'item_name': 'sweater', 'item_cost': 50, 'quantity': 3}, {'item_name': 'scarf', 'item_cost': 35, 'quantity': 3}, {'item_name': 'gloves', 'item_cost': 20, 'quantity': 2}, {'item_name': 'gloves', 'item_cost': 20, 'quantity': 3}, {'item_name': 'gloves', 'item_cost': 20, 'quantity': 2}, {'item_name': 'gloves', 'item_cost': 20, 'quantity': 1}, {'item_name': 'gloves', 'item_cost': 20, 'quantity': 2}, {'item_name': 'hat', 'item_cost': 20, 'quantity': 1}, {'item_name': 'hat', 'item_cost': 20, 'quantity': 3}, {'item_name': 'gloves', 'item_cost': 20, 'quantity': 1}, {'item_name': 'scarf', 'item_cost': 35, 'quantity': 3}, {'item_name': 'hat', 'item_cost': 20, 'quantity': 2}, {'item_name': 'scarf', 'item_cost': 35, 'quantity': 1}, {'item_name': 'sweater', 'item_cost': 50, 'quantity': 1}, {'item_name': 'hat', 'item_cost': 20, 'quantity': 3}, {'item_name': 'sweater', 'item_cost': 50, 'quantity': 1}, {'item_name': 'sweater', 'item_cost': 50, 'quantity': 3}, {'item_name': 'hat', 'item_cost': 20, 'quantity': 1}, {'item_name': 'sweater', 'item_cost': 50, 'quantity': 2}], 'location': None, 'total_spent': 1385}\n",
      " \n",
      "{'name': 'Charlotte', 'orders': [{'item_name': 'gloves', 'item_cost': 20, 'quantity': 3}, {'item_name': 'hat', 'item_cost': 20, 'quantity': 1}, {'item_name': 'gloves', 'item_cost': 20, 'quantity': 2}, {'item_name': 'sweater', 'item_cost': 50, 'quantity': 2}, {'item_name': 'sweater', 'item_cost': 50, 'quantity': 3}, {'item_name': 'scarf', 'item_cost': 35, 'quantity': 3}, {'item_name': 'gloves', 'item_cost': 20, 'quantity': 2}, {'item_name': 'gloves', 'item_cost': 20, 'quantity': 3}, {'item_name': 'gloves', 'item_cost': 20, 'quantity': 2}, {'item_name': 'gloves', 'item_cost': 20, 'quantity': 1}, {'item_name': 'gloves', 'item_cost': 20, 'quantity': 2}, {'item_name': 'hat', 'item_cost': 20, 'quantity': 1}, {'item_name': 'hat', 'item_cost': 20, 'quantity': 3}, {'item_name': 'gloves', 'item_cost': 20, 'quantity': 1}, {'item_name': 'scarf', 'item_cost': 35, 'quantity': 3}, {'item_name': 'hat', 'item_cost': 20, 'quantity': 2}, {'item_name': 'scarf', 'item_cost': 35, 'quantity': 1}, {'item_name': 'sweater', 'item_cost': 50, 'quantity': 1}, {'item_name': 'hat', 'item_cost': 20, 'quantity': 3}, {'item_name': 'sweater', 'item_cost': 50, 'quantity': 1}, {'item_name': 'sweater', 'item_cost': 50, 'quantity': 3}, {'item_name': 'hat', 'item_cost': 20, 'quantity': 1}, {'item_name': 'sweater', 'item_cost': 50, 'quantity': 2}, {'item_name': 'hat', 'item_cost': 20, 'quantity': 3}], 'location': None, 'total_spent': 1445}\n",
      " \n",
      "{'name': 'Charlotte', 'orders': [{'item_name': 'gloves', 'item_cost': 20, 'quantity': 3}, {'item_name': 'hat', 'item_cost': 20, 'quantity': 1}, {'item_name': 'gloves', 'item_cost': 20, 'quantity': 2}, {'item_name': 'sweater', 'item_cost': 50, 'quantity': 2}, {'item_name': 'sweater', 'item_cost': 50, 'quantity': 3}, {'item_name': 'scarf', 'item_cost': 35, 'quantity': 3}, {'item_name': 'gloves', 'item_cost': 20, 'quantity': 2}, {'item_name': 'gloves', 'item_cost': 20, 'quantity': 3}, {'item_name': 'gloves', 'item_cost': 20, 'quantity': 2}, {'item_name': 'gloves', 'item_cost': 20, 'quantity': 1}, {'item_name': 'gloves', 'item_cost': 20, 'quantity': 2}, {'item_name': 'hat', 'item_cost': 20, 'quantity': 1}, {'item_name': 'hat', 'item_cost': 20, 'quantity': 3}, {'item_name': 'gloves', 'item_cost': 20, 'quantity': 1}, {'item_name': 'scarf', 'item_cost': 35, 'quantity': 3}, {'item_name': 'hat', 'item_cost': 20, 'quantity': 2}, {'item_name': 'scarf', 'item_cost': 35, 'quantity': 1}, {'item_name': 'sweater', 'item_cost': 50, 'quantity': 1}, {'item_name': 'hat', 'item_cost': 20, 'quantity': 3}, {'item_name': 'sweater', 'item_cost': 50, 'quantity': 1}, {'item_name': 'sweater', 'item_cost': 50, 'quantity': 3}, {'item_name': 'hat', 'item_cost': 20, 'quantity': 1}, {'item_name': 'sweater', 'item_cost': 50, 'quantity': 2}, {'item_name': 'hat', 'item_cost': 20, 'quantity': 3}, {'item_name': 'gloves', 'item_cost': 20, 'quantity': 1}], 'location': None, 'total_spent': 1465}\n",
      " \n",
      "{'name': 'Charlotte', 'orders': [{'item_name': 'gloves', 'item_cost': 20, 'quantity': 3}, {'item_name': 'hat', 'item_cost': 20, 'quantity': 1}, {'item_name': 'gloves', 'item_cost': 20, 'quantity': 2}, {'item_name': 'sweater', 'item_cost': 50, 'quantity': 2}, {'item_name': 'sweater', 'item_cost': 50, 'quantity': 3}, {'item_name': 'scarf', 'item_cost': 35, 'quantity': 3}, {'item_name': 'gloves', 'item_cost': 20, 'quantity': 2}, {'item_name': 'gloves', 'item_cost': 20, 'quantity': 3}, {'item_name': 'gloves', 'item_cost': 20, 'quantity': 2}, {'item_name': 'gloves', 'item_cost': 20, 'quantity': 1}, {'item_name': 'gloves', 'item_cost': 20, 'quantity': 2}, {'item_name': 'hat', 'item_cost': 20, 'quantity': 1}, {'item_name': 'hat', 'item_cost': 20, 'quantity': 3}, {'item_name': 'gloves', 'item_cost': 20, 'quantity': 1}, {'item_name': 'scarf', 'item_cost': 35, 'quantity': 3}, {'item_name': 'hat', 'item_cost': 20, 'quantity': 2}, {'item_name': 'scarf', 'item_cost': 35, 'quantity': 1}, {'item_name': 'sweater', 'item_cost': 50, 'quantity': 1}, {'item_name': 'hat', 'item_cost': 20, 'quantity': 3}, {'item_name': 'sweater', 'item_cost': 50, 'quantity': 1}, {'item_name': 'sweater', 'item_cost': 50, 'quantity': 3}, {'item_name': 'hat', 'item_cost': 20, 'quantity': 1}, {'item_name': 'sweater', 'item_cost': 50, 'quantity': 2}, {'item_name': 'hat', 'item_cost': 20, 'quantity': 3}, {'item_name': 'gloves', 'item_cost': 20, 'quantity': 1}, {'item_name': 'sweater', 'item_cost': 50, 'quantity': 1}], 'location': None, 'total_spent': 1515}\n",
      " \n",
      "{'name': 'Elijah', 'orders': [{'item_name': 'gloves', 'item_cost': 20, 'quantity': 3}, {'item_name': 'hat', 'item_cost': 20, 'quantity': 1}, {'item_name': 'gloves', 'item_cost': 20, 'quantity': 2}, {'item_name': 'sweater', 'item_cost': 50, 'quantity': 2}, {'item_name': 'sweater', 'item_cost': 50, 'quantity': 3}, {'item_name': 'scarf', 'item_cost': 35, 'quantity': 3}, {'item_name': 'gloves', 'item_cost': 20, 'quantity': 2}, {'item_name': 'gloves', 'item_cost': 20, 'quantity': 3}, {'item_name': 'gloves', 'item_cost': 20, 'quantity': 2}, {'item_name': 'gloves', 'item_cost': 20, 'quantity': 1}, {'item_name': 'gloves', 'item_cost': 20, 'quantity': 2}, {'item_name': 'hat', 'item_cost': 20, 'quantity': 1}, {'item_name': 'hat', 'item_cost': 20, 'quantity': 3}, {'item_name': 'gloves', 'item_cost': 20, 'quantity': 1}, {'item_name': 'scarf', 'item_cost': 35, 'quantity': 3}, {'item_name': 'hat', 'item_cost': 20, 'quantity': 2}, {'item_name': 'scarf', 'item_cost': 35, 'quantity': 1}, {'item_name': 'sweater', 'item_cost': 50, 'quantity': 1}, {'item_name': 'hat', 'item_cost': 20, 'quantity': 3}, {'item_name': 'sweater', 'item_cost': 50, 'quantity': 1}, {'item_name': 'sweater', 'item_cost': 50, 'quantity': 3}, {'item_name': 'hat', 'item_cost': 20, 'quantity': 1}, {'item_name': 'sweater', 'item_cost': 50, 'quantity': 2}, {'item_name': 'hat', 'item_cost': 20, 'quantity': 3}, {'item_name': 'gloves', 'item_cost': 20, 'quantity': 1}, {'item_name': 'sweater', 'item_cost': 50, 'quantity': 1}, {'item_name': 'gloves', 'item_cost': 20, 'quantity': 3}], 'location': None, 'total_spent': 1575}\n",
      " \n",
      "{'name': 'Elijah', 'orders': [{'item_name': 'gloves', 'item_cost': 20, 'quantity': 3}, {'item_name': 'hat', 'item_cost': 20, 'quantity': 1}, {'item_name': 'gloves', 'item_cost': 20, 'quantity': 2}, {'item_name': 'sweater', 'item_cost': 50, 'quantity': 2}, {'item_name': 'sweater', 'item_cost': 50, 'quantity': 3}, {'item_name': 'scarf', 'item_cost': 35, 'quantity': 3}, {'item_name': 'gloves', 'item_cost': 20, 'quantity': 2}, {'item_name': 'gloves', 'item_cost': 20, 'quantity': 3}, {'item_name': 'gloves', 'item_cost': 20, 'quantity': 2}, {'item_name': 'gloves', 'item_cost': 20, 'quantity': 1}, {'item_name': 'gloves', 'item_cost': 20, 'quantity': 2}, {'item_name': 'hat', 'item_cost': 20, 'quantity': 1}, {'item_name': 'hat', 'item_cost': 20, 'quantity': 3}, {'item_name': 'gloves', 'item_cost': 20, 'quantity': 1}, {'item_name': 'scarf', 'item_cost': 35, 'quantity': 3}, {'item_name': 'hat', 'item_cost': 20, 'quantity': 2}, {'item_name': 'scarf', 'item_cost': 35, 'quantity': 1}, {'item_name': 'sweater', 'item_cost': 50, 'quantity': 1}, {'item_name': 'hat', 'item_cost': 20, 'quantity': 3}, {'item_name': 'sweater', 'item_cost': 50, 'quantity': 1}, {'item_name': 'sweater', 'item_cost': 50, 'quantity': 3}, {'item_name': 'hat', 'item_cost': 20, 'quantity': 1}, {'item_name': 'sweater', 'item_cost': 50, 'quantity': 2}, {'item_name': 'hat', 'item_cost': 20, 'quantity': 3}, {'item_name': 'gloves', 'item_cost': 20, 'quantity': 1}, {'item_name': 'sweater', 'item_cost': 50, 'quantity': 1}, {'item_name': 'gloves', 'item_cost': 20, 'quantity': 3}, {'item_name': 'scarf', 'item_cost': 35, 'quantity': 3}], 'location': None, 'total_spent': 1680}\n",
      " \n",
      "{'name': 'Elijah', 'orders': [{'item_name': 'gloves', 'item_cost': 20, 'quantity': 3}, {'item_name': 'hat', 'item_cost': 20, 'quantity': 1}, {'item_name': 'gloves', 'item_cost': 20, 'quantity': 2}, {'item_name': 'sweater', 'item_cost': 50, 'quantity': 2}, {'item_name': 'sweater', 'item_cost': 50, 'quantity': 3}, {'item_name': 'scarf', 'item_cost': 35, 'quantity': 3}, {'item_name': 'gloves', 'item_cost': 20, 'quantity': 2}, {'item_name': 'gloves', 'item_cost': 20, 'quantity': 3}, {'item_name': 'gloves', 'item_cost': 20, 'quantity': 2}, {'item_name': 'gloves', 'item_cost': 20, 'quantity': 1}, {'item_name': 'gloves', 'item_cost': 20, 'quantity': 2}, {'item_name': 'hat', 'item_cost': 20, 'quantity': 1}, {'item_name': 'hat', 'item_cost': 20, 'quantity': 3}, {'item_name': 'gloves', 'item_cost': 20, 'quantity': 1}, {'item_name': 'scarf', 'item_cost': 35, 'quantity': 3}, {'item_name': 'hat', 'item_cost': 20, 'quantity': 2}, {'item_name': 'scarf', 'item_cost': 35, 'quantity': 1}, {'item_name': 'sweater', 'item_cost': 50, 'quantity': 1}, {'item_name': 'hat', 'item_cost': 20, 'quantity': 3}, {'item_name': 'sweater', 'item_cost': 50, 'quantity': 1}, {'item_name': 'sweater', 'item_cost': 50, 'quantity': 3}, {'item_name': 'hat', 'item_cost': 20, 'quantity': 1}, {'item_name': 'sweater', 'item_cost': 50, 'quantity': 2}, {'item_name': 'hat', 'item_cost': 20, 'quantity': 3}, {'item_name': 'gloves', 'item_cost': 20, 'quantity': 1}, {'item_name': 'sweater', 'item_cost': 50, 'quantity': 1}, {'item_name': 'gloves', 'item_cost': 20, 'quantity': 3}, {'item_name': 'scarf', 'item_cost': 35, 'quantity': 3}, {'item_name': 'hat', 'item_cost': 20, 'quantity': 3}], 'location': None, 'total_spent': 1740}\n",
      " \n",
      "{'name': 'Elijah', 'orders': [{'item_name': 'gloves', 'item_cost': 20, 'quantity': 3}, {'item_name': 'hat', 'item_cost': 20, 'quantity': 1}, {'item_name': 'gloves', 'item_cost': 20, 'quantity': 2}, {'item_name': 'sweater', 'item_cost': 50, 'quantity': 2}, {'item_name': 'sweater', 'item_cost': 50, 'quantity': 3}, {'item_name': 'scarf', 'item_cost': 35, 'quantity': 3}, {'item_name': 'gloves', 'item_cost': 20, 'quantity': 2}, {'item_name': 'gloves', 'item_cost': 20, 'quantity': 3}, {'item_name': 'gloves', 'item_cost': 20, 'quantity': 2}, {'item_name': 'gloves', 'item_cost': 20, 'quantity': 1}, {'item_name': 'gloves', 'item_cost': 20, 'quantity': 2}, {'item_name': 'hat', 'item_cost': 20, 'quantity': 1}, {'item_name': 'hat', 'item_cost': 20, 'quantity': 3}, {'item_name': 'gloves', 'item_cost': 20, 'quantity': 1}, {'item_name': 'scarf', 'item_cost': 35, 'quantity': 3}, {'item_name': 'hat', 'item_cost': 20, 'quantity': 2}, {'item_name': 'scarf', 'item_cost': 35, 'quantity': 1}, {'item_name': 'sweater', 'item_cost': 50, 'quantity': 1}, {'item_name': 'hat', 'item_cost': 20, 'quantity': 3}, {'item_name': 'sweater', 'item_cost': 50, 'quantity': 1}, {'item_name': 'sweater', 'item_cost': 50, 'quantity': 3}, {'item_name': 'hat', 'item_cost': 20, 'quantity': 1}, {'item_name': 'sweater', 'item_cost': 50, 'quantity': 2}, {'item_name': 'hat', 'item_cost': 20, 'quantity': 3}, {'item_name': 'gloves', 'item_cost': 20, 'quantity': 1}, {'item_name': 'sweater', 'item_cost': 50, 'quantity': 1}, {'item_name': 'gloves', 'item_cost': 20, 'quantity': 3}, {'item_name': 'scarf', 'item_cost': 35, 'quantity': 3}, {'item_name': 'hat', 'item_cost': 20, 'quantity': 3}, {'item_name': 'gloves', 'item_cost': 20, 'quantity': 3}], 'location': None, 'total_spent': 1800}\n",
      " \n",
      "11\n"
     ]
    }
   ],
   "source": [
    "names = ['Liam',  'Emma', 'Noah','Olivia','William','Ava',\n",
    "         'James','Isabella','Logan','Sophia','Benjamin','Mia','Mason',\n",
    "         'Charlotte','Elijah','Amelia','Oliver','Evelyn','Jacob','Abigail]']\n",
    "items = [('sweater',50), ('scarf', 35), ('gloves', 20), ('hat', 20)]\n",
    "\n",
    "for i in range(10):\n",
    "    customer = Customer(name=np.random.choice(names)) #Create a customer\n",
    "    n_orders = np.random.randint(1,5) #Create an order or two, or three, or four, or five!\n",
    "    for order_n in range(n_orders):\n",
    "        idx = np.random.choice(len(items)) #np.random.choice doesn't work with nested lists; workaround\n",
    "        item = items[idx]\n",
    "        item_name = item[0]\n",
    "        item_price = item[1]\n",
    "        quantity = np.random.randint(1,4)\n",
    "        customer.add_order(item_name, item_price, quantity)\n",
    "        print(vars(customer))\n",
    "        print(\" \")\n",
    "    #Add the customer to our business\n",
    "    startup.add_customer(customer)\n",
    "print(len(startup.customers))"
   ]
  },
  {
   "cell_type": "markdown",
   "metadata": {},
   "source": [
    "### my lines of code below"
   ]
  },
  {
   "cell_type": "code",
   "execution_count": 14,
   "metadata": {},
   "outputs": [
    {
     "name": "stdout",
     "output_type": "stream",
     "text": [
      "Random customer's name: Elijah\n",
      "Random number of orders: 4\n",
      "Random choice of product: 2\n",
      "Showing what product the above number refers to: ('gloves', 20)\n",
      "Product: gloves\n",
      "Price: 20\n",
      "How many of the item (not to be confused with how many orders): 3 -- I think this means Elijah ordered 12 items?\n"
     ]
    }
   ],
   "source": [
    "print(\"Random customer's name:\", customer.name)\n",
    "print(\"Random number of orders:\", n_orders)\n",
    "print(\"Random choice of product:\", idx)\n",
    "print(\"Showing what product the above number refers to:\", item)\n",
    "print(\"Product:\", item_name)\n",
    "print(\"Price:\", item_price)\n",
    "print(\"How many of the item (not to be confused with how many orders):\", quantity, \"--\", \n",
    "      \"I think this means\", customer.name, \"ordered\", (n_orders*quantity), \"items?\")"
   ]
  },
  {
   "cell_type": "markdown",
   "metadata": {},
   "source": [
    "> What I've printed above is only one instance through the 9 times the loop runs, **I think**. I am trying to figure out how to square this code with the results in the `top_n_customers` below.\n",
    "It seems like the customers would have spent too much. How could 5 customers spend over 1,000 dollars each if the code for orders was only run 9 times and there was a random choice of 20 customers and all of the items were 50 dollars or less? "
   ]
  },
  {
   "cell_type": "markdown",
   "metadata": {},
   "source": [
    "## Trying out our complex method"
   ]
  },
  {
   "cell_type": "code",
   "execution_count": 15,
   "metadata": {},
   "outputs": [
    {
     "name": "stdout",
     "output_type": "stream",
     "text": [
      "Elijah 1800\n",
      "Charlotte 1515\n",
      "Emma 1285\n",
      "Charlotte 1115\n",
      "Mia 920\n"
     ]
    }
   ],
   "source": [
    "startup.top_n_customers(5)"
   ]
  },
  {
   "cell_type": "code",
   "execution_count": 16,
   "metadata": {},
   "outputs": [
    {
     "name": "stdout",
     "output_type": "stream",
     "text": [
      "Elijah 1800\n",
      "Charlotte 1515\n",
      "Emma 1285\n",
      "Charlotte 1115\n",
      "Mia 920\n",
      "Benjamin 880\n",
      "William 695\n",
      "William 635\n",
      "Olivia 515\n",
      "Emma 220\n",
      "Bob 24.99\n"
     ]
    }
   ],
   "source": [
    "startup.top_n_customers(50)"
   ]
  },
  {
   "cell_type": "markdown",
   "metadata": {},
   "source": [
    "## Summary\n",
    "In this lesson, you were able to mimic a complex domain model using a Business and customer class with a few instance methods and variables."
   ]
  }
 ],
 "metadata": {
  "kernelspec": {
   "display_name": "Python 3",
   "language": "python",
   "name": "python3"
  },
  "language_info": {
   "codemirror_mode": {
    "name": "ipython",
    "version": 3
   },
   "file_extension": ".py",
   "mimetype": "text/x-python",
   "name": "python",
   "nbconvert_exporter": "python",
   "pygments_lexer": "ipython3",
   "version": "3.7.1"
  }
 },
 "nbformat": 4,
 "nbformat_minor": 2
}
